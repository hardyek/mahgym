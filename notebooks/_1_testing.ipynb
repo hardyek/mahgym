{
 "cells": [
  {
   "cell_type": "markdown",
   "metadata": {},
   "source": [
    "## Testing `Game`"
   ]
  },
  {
   "cell_type": "code",
   "execution_count": 1,
   "metadata": {},
   "outputs": [],
   "source": [
    "import sys\n",
    "import os\n",
    "sys.path.append(os.path.abspath('..'))\n",
    "\n",
    "from core.engine.main import Game\n",
    "\n",
    "from core.agents.random import Random"
   ]
  },
  {
   "cell_type": "code",
   "execution_count": 2,
   "metadata": {},
   "outputs": [],
   "source": [
    "agents = [Random(i) for i in range(4)]\n",
    "game = Game(agents, 0)\n",
    "game._initialise_game()"
   ]
  },
  {
   "cell_type": "code",
   "execution_count": 3,
   "metadata": {},
   "outputs": [
    {
     "name": "stdout",
     "output_type": "stream",
     "text": [
      "[16, 34, 1, 54, 33, 17, 16, 26, 53, 42, 11, 26, 4, 26, 8, 12, 41, 18, 9, 43, 9, 27, 19, 23, 62, 12, 27, 28, 8, 25, 4, 16, 15, 14, 17, 32, 3, 6, 2, 28, 34, 17, 2, 7, 12, 29, 19, 51, 11, 3, 41, 25, 24, 21, 9, 32, 33, 23, 13, 24, 14, 1, 22, 52, 7, 19, 2, 33, 14, 13, 27, 15, 6, 25, 61, 18, 63, 43, 43, 4, 43, 26, 29, 11, 22]\n",
      "85\n",
      "[32, 5, 15, 6, 13, 5, 33, 31, 24, 15, 23, 31, 12] - 13 - []\n",
      "[9, 32, 34, 6, 3, 3, 5, 25, 14, 31, 4, 29, 16] - 13 - [42, 42]\n",
      "[29, 7, 27, 21, 18, 28, 11, 31, 13, 21, 22, 21, 17, 5] - 14 - [42]\n",
      "[24, 23, 8, 28, 34, 19, 18, 1, 8, 2, 1, 22, 7] - 13 - [41, 64, 41]\n",
      "2\n",
      "0\n"
     ]
    }
   ],
   "source": [
    "print(game.data['pregame']['deck'])\n",
    "print(len(game.data['pregame']['deck']))\n",
    "for i in range(4):\n",
    "    print(game.data['pregame']['starting_hands'][i],\"-\", len(game.data['pregame']['starting_hands'][i]),\"-\", game.data['pregame']['starting_specials'][i])\n",
    "print(game.data['pregame']['starting_player'])\n",
    "print(game.data['pregame']['starting_wind'])"
   ]
  },
  {
   "cell_type": "code",
   "execution_count": 4,
   "metadata": {},
   "outputs": [
    {
     "data": {
      "text/plain": [
       "{'result': 'draw'}"
      ]
     },
     "execution_count": 4,
     "metadata": {},
     "output_type": "execute_result"
    }
   ],
   "source": [
    "game._main_loop()"
   ]
  },
  {
   "cell_type": "code",
   "execution_count": 7,
   "metadata": {},
   "outputs": [
    {
     "data": {
      "text/plain": [
       "[9, 25, 29, 8, 26, 13, 22, 2, 27, 4, 43]"
      ]
     },
     "execution_count": 7,
     "metadata": {},
     "output_type": "execute_result"
    }
   ],
   "source": [
    "game.players[game.current_player].hand"
   ]
  },
  {
   "cell_type": "code",
   "execution_count": 8,
   "metadata": {},
   "outputs": [
    {
     "data": {
      "text/plain": [
       "{9: 1, 25: 1, 29: 1, 8: 1, 26: 1, 13: 1, 22: 1, 2: 1, 27: 1, 4: 1, 43: 1}"
      ]
     },
     "execution_count": 8,
     "metadata": {},
     "output_type": "execute_result"
    }
   ],
   "source": [
    "game.players[game.current_player]._hand_counts"
   ]
  },
  {
   "cell_type": "code",
   "execution_count": null,
   "metadata": {},
   "outputs": [],
   "source": []
  }
 ],
 "metadata": {
  "kernelspec": {
   "display_name": "Python 3",
   "language": "python",
   "name": "python3"
  },
  "language_info": {
   "codemirror_mode": {
    "name": "ipython",
    "version": 3
   },
   "file_extension": ".py",
   "mimetype": "text/x-python",
   "name": "python",
   "nbconvert_exporter": "python",
   "pygments_lexer": "ipython3",
   "version": "3.13.0"
  }
 },
 "nbformat": 4,
 "nbformat_minor": 2
}
