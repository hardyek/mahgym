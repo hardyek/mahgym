{
 "cells": [
  {
   "cell_type": "code",
   "execution_count": 143,
   "metadata": {},
   "outputs": [],
   "source": [
    "deck = []\n",
    "pile = []\n",
    "\n",
    "revealed = [[],[],[],[]]\n",
    "\n",
    "hands = [[],[],[],[]]"
   ]
  },
  {
   "cell_type": "code",
   "execution_count": 144,
   "metadata": {},
   "outputs": [],
   "source": [
    "deck = [\n",
    "    1, 2, 3, 4, 5, 6, 7, 8, 9, # Numeric 1 - 9 \n",
    "    1, 2, 3, 4, 5, 6, 7, 8, 9,\n",
    "    1, 2, 3, 4, 5, 6, 7, 8, 9,\n",
    "    1, 2, 3, 4, 5, 6, 7, 8, 9,\n",
    "\n",
    "    10, 11, 12, 13, 14, 15, 16, 17, 18, # Circles 1 - 9\n",
    "    10, 11, 12, 13, 14, 15, 16, 17, 18,\n",
    "    10, 11, 12, 13, 14, 15, 16, 17, 18,\n",
    "    10, 11, 12, 13, 14, 15, 16, 17, 18,\n",
    "\n",
    "    19, 20, 21, 22, 23, 24, 25, 26, 27, # Bamboo 1 - 9\n",
    "    19, 20, 21, 22, 23, 24, 25, 26, 27,\n",
    "    19, 20, 21, 22, 23, 24, 25, 26, 27,\n",
    "    19, 20, 21, 22, 23, 24, 25, 26, 27,\n",
    "\n",
    "    28, 28, 28, 28, # North \n",
    "    29, 29, 29, 29, # East\n",
    "    30, 30, 30, 30, # South\n",
    "    31, 31, 31, 31, # West\n",
    "\n",
    "    32, 32, 32, 32, # White\n",
    "    33, 33, 33, 33, # Green\n",
    "    34, 34, 34, 34, # Red\n",
    "\n",
    "    35, 36, 37, 38, 39, 40, 41, 42 # Special\n",
    "]"
   ]
  },
  {
   "cell_type": "markdown",
   "metadata": {},
   "source": [
    "Pre-Game Flow\n",
    "1. Shuffle Tiles\n",
    "2. Roll Dice\n",
    "3. Deal\n",
    "4. Handle Flowers\n",
    "\n",
    "This means that the only knowledge needed is who will roll the dice (who the count starts from) this is the previous games winner if there is no previous game randomly assign."
   ]
  },
  {
   "cell_type": "code",
   "execution_count": 145,
   "metadata": {},
   "outputs": [],
   "source": [
    "from sklearn.utils import shuffle\n",
    "import random"
   ]
  },
  {
   "cell_type": "code",
   "execution_count": 146,
   "metadata": {},
   "outputs": [],
   "source": [
    "# Shuffle Tiles\n",
    "shuffled_deck = shuffle(deck, random_state=0)"
   ]
  },
  {
   "cell_type": "code",
   "execution_count": 147,
   "metadata": {},
   "outputs": [],
   "source": [
    "# Only Prerequisite\n",
    "dice_roller = random.randint(1,4)"
   ]
  },
  {
   "cell_type": "code",
   "execution_count": 148,
   "metadata": {},
   "outputs": [],
   "source": [
    "# Roll Dice\n",
    "dice_roll = random.randint(1,6) + random.randint(1,6) + random.randint(1,6) \n",
    "# Just done three times for readabliltiy (not exactly computationally intense)"
   ]
  },
  {
   "cell_type": "code",
   "execution_count": 149,
   "metadata": {},
   "outputs": [],
   "source": [
    "# Count around the table and determine starting player\n",
    "offset = 1 % 4 - 1  # Formula to determine the offset of the starting player from the dice roller\n",
    "starting_player = dice_roller + offset"
   ]
  },
  {
   "cell_type": "code",
   "execution_count": 150,
   "metadata": {},
   "outputs": [],
   "source": [
    "# The next step would be to split the walls etc but this is just a formality\n",
    "# So we can just start dealing from the start of the deck\n",
    "# The same could be said about the dealing process itself so I will just assign 13 tiles to each player\n",
    "# Except the starting player who gets 14"
   ]
  },
  {
   "cell_type": "code",
   "execution_count": 151,
   "metadata": {},
   "outputs": [
    {
     "name": "stdout",
     "output_type": "stream",
     "text": [
      "The dice roller is: 3\n",
      "Who rolled: 11\n",
      "So the starting player is: 3\n"
     ]
    }
   ],
   "source": [
    "print(f\"The dice roller is: {dice_roller}\")\n",
    "print(f\"Who rolled: {dice_roll}\")\n",
    "print(f\"So the starting player is: {starting_player}\")"
   ]
  },
  {
   "cell_type": "code",
   "execution_count": 152,
   "metadata": {},
   "outputs": [],
   "source": [
    "for i in range(1,5):\n",
    "    if i == starting_player:\n",
    "        for _ in range(14):\n",
    "            tile = deck.pop(0)\n",
    "            hands[i-1].append(tile)\n",
    "    else:\n",
    "        for _ in range(13):\n",
    "            tile = deck.pop(0)\n",
    "            hands[i-1].append(tile)"
   ]
  },
  {
   "cell_type": "markdown",
   "metadata": {},
   "source": []
  },
  {
   "cell_type": "code",
   "execution_count": null,
   "metadata": {},
   "outputs": [],
   "source": [
    "# Now the game is ready to begin with the starting player discarding a tile"
   ]
  }
 ],
 "metadata": {
  "kernelspec": {
   "display_name": "base",
   "language": "python",
   "name": "python3"
  },
  "language_info": {
   "codemirror_mode": {
    "name": "ipython",
    "version": 3
   },
   "file_extension": ".py",
   "mimetype": "text/x-python",
   "name": "python",
   "nbconvert_exporter": "python",
   "pygments_lexer": "ipython3",
   "version": "3.12.4"
  }
 },
 "nbformat": 4,
 "nbformat_minor": 2
}
